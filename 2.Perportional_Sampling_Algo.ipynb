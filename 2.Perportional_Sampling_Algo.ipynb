{
 "cells": [
  {
   "cell_type": "markdown",
   "metadata": {},
   "source": [
    "# 2. Perportional Sampling -:\n",
    "* Task = pick an element amongest the n elements such that prob of picking an element is proportional to the value at the corresponding index\n",
    "\n",
    "=> There are three steps\n",
    "1. Step-1 =:\n",
    "           * Compute the sum of all the values in the list called 'S'\n",
    "           * divide each value of list by 'S' and store in d_delta\n",
    "           * compute cumulative normalized sum of each value in 'd_delta' and store in 'd_tilda\n",
    "\n",
    "2. Step-2 => Sample one value uniformly and store in 'unif'\n",
    "\n",
    "3. step-3 => now compare 'unif' value with each value in d_tilda and if unif is less than d_tilda value than return the value of d_tilda"
   ]
  },
  {
   "cell_type": "code",
   "execution_count": 1,
   "metadata": {},
   "outputs": [
    {
     "name": "stdout",
     "output_type": "stream",
     "text": [
      "[0.03529411764705882, 0.09705882352941175, 0.15588235294117647, 0.03529411764705882, 0.6764705882352942]\n",
      "--------------------------------------------------\n",
      "[0.03529411764705882, 0.13235294117647056, 0.28823529411764703, 0.32352941176470584, 1.0]\n",
      "--------------------------------------------------\n",
      "uniform value: [0.38431272]\n",
      "--------------------------------------------------\n"
     ]
    },
    {
     "data": {
      "text/plain": [
       "1.0"
      ]
     },
     "execution_count": 1,
     "metadata": {},
     "output_type": "execute_result"
    }
   ],
   "source": [
    "import random\n",
    "import numpy as np\n",
    "def perop(mat,n):\n",
    "    s=0\n",
    "    #Step-1=> Compute the sum\n",
    "    for i in range(n):\n",
    "        s+=mat[i]\n",
    "    \n",
    "    #Step-2=> normalizing using the sum\n",
    "    d_del = [i for i in range(n)]\n",
    "    for i in range(n):\n",
    "        d_del[i] = mat[i]/s\n",
    "    print(d_del)\n",
    "    \n",
    "    # Step-3=> Compute cumulative normalized sum\n",
    "    d_tild  = [0 for i in range(n)]\n",
    "    d_tild[0] = d_del[0]\n",
    "    for i in range(1,n):\n",
    "        d_tild[i]=d_tild[i-1]+d_del[i]\n",
    "\n",
    "    print('-'*50)\n",
    "    print(d_tild)\n",
    "    # Step - b => uniform number \n",
    "    unif  = np.random.uniform(0.0,1.0,1)\n",
    "    print('-'*50)\n",
    "    print('uniform value:',unif)\n",
    "    print('-'*50)\n",
    "    #final step is perportional sampling\n",
    "    for i in d_tild:\n",
    "        if unif <= i:\n",
    "            return i\n",
    "        \n",
    "mat = [1.2, 3.3, 5.3, 1.2, 23]\n",
    "n = len(mat)\n",
    "perop(mat,n)"
   ]
  },
  {
   "cell_type": "code",
   "execution_count": null,
   "metadata": {},
   "outputs": [],
   "source": []
  }
 ],
 "metadata": {
  "kernelspec": {
   "display_name": "Python 3",
   "language": "python",
   "name": "python3"
  },
  "language_info": {
   "codemirror_mode": {
    "name": "ipython",
    "version": 3
   },
   "file_extension": ".py",
   "mimetype": "text/x-python",
   "name": "python",
   "nbconvert_exporter": "python",
   "pygments_lexer": "ipython3",
   "version": "3.7.4"
  }
 },
 "nbformat": 4,
 "nbformat_minor": 4
}
